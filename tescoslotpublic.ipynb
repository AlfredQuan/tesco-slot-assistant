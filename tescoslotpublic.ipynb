{
 "cells": [
  {
   "cell_type": "code",
   "execution_count": 4,
   "metadata": {},
   "outputs": [],
   "source": [
    "# Cheap Tesco slot alter\n",
    "# Download chromedriver for script to function\n",
    "\n",
    "from selenium import webdriver\n",
    "import time\n",
    "import sys\n",
    "import os\n",
    "from datetime import datetime\n",
    "from datetime import timedelta\n",
    "from selenium.webdriver.common.keys import Keys\n",
    "import yagmail\n",
    "from tqdm import tqdm\n",
    "\n",
    "def login(username,password):\n",
    "    # Load driver\n",
    "    # 创建chrome参数对象\n",
    "    opt = webdriver.ChromeOptions()\n",
    "\n",
    "    # 把chrome设置成无界面模式，不论windows还是linux都可以，自动适配对应参数\n",
    "    opt.set_headless()\n",
    "\n",
    "    if os.name == 'nt':\n",
    "        #driver = webdriver.Chrome('C:\\Program Files (x86)\\Google\\Chrome\\Application\\chromedriver.exe')\n",
    "        driver = webdriver.Chrome('C:\\Program Files (x86)\\Google\\Chrome\\Application\\chromedriver.exe',options=opt)\n",
    "    else:\n",
    "        driver = webdriver.Chrome('/usr/bin/chromedriver',options=opt)\n",
    "\n",
    "\n",
    "\n",
    "    #driver.set_window_position(0, 0)\n",
    "    #driver.set_window_size(800, 900)\n",
    "\n",
    "    # Load url\n",
    "    driver.get(\"https://secure.tesco.com/account/en-GB/login\")\n",
    "    current_url = driver.current_url\n",
    "    driver.find_element_by_id('username').send_keys(username)\n",
    "    driver.find_element_by_id('password').send_keys(password)\n",
    "    driver.find_element_by_xpath(\"//*[@class='ui-component__button']\").click()\n",
    "    return driver\n",
    "\n",
    "\n",
    "\n",
    "def get_slots(driver):\n",
    "    prices = []\n",
    "    #dates = []\n",
    "    for i in tqdm(range(1,8)):\n",
    "        date = (datetime.now() + timedelta(days=i) ).strftime('%Y-%m-%d')\n",
    "        url = \"https://www.tesco.com/groceries/en-GB/slots/delivery/\" + date + \"?slotGroup=4\"\n",
    "        driver.get(url);\n",
    "\n",
    "        #print (\"Checking \" + str(date))\n",
    "        time.sleep(3)\n",
    "            # Check for slot message and break if didnt find element\n",
    "        slots = driver.find_elements_by_css_selector('[class=\"slot-list--item available\"]')\n",
    "            #print(slots)\n",
    "\n",
    "        for slot in slots:\n",
    "            slot_price = slot.find_element_by_class_name('value').text\n",
    "            prices.append(slot_price)\n",
    "            #dates.append(dates)\n",
    "\n",
    "    print(\"prices:\", prices)\n",
    "    return prices\n",
    "                #slot_prices = driver.find_element_by_xpath(\"//*[@data-auto='price-value']\").text.strip()\n",
    "                #slot_message = driver.find_element_by_class_name('value').text.strip()\n",
    "                #slot_message = driver.find_elements_by_class_name('value')\n",
    "\n",
    "def send_email(receivers,content,user,password,host):\n",
    "    yag = yagmail.SMTP(user, password, host )\n",
    "    contents= [content]\n",
    "    yag.send(receivers,contents,contents)\n",
    "\n",
    "\n",
    "# Cause sound for detection of a available slot\n",
    "#for i in range(15):\n",
    "#  if os.name == 'nt':\n",
    "#    frequency = 2500\n",
    "#    duration = 1000\n",
    "#    winsound.Beep(frequency, duration)\n",
    "#  else:\n",
    "#    sys.stdout.write('\\a')\n",
    "#    sys.stdout.flush()\n",
    "\n",
    "def gen_content(prices,threshold):\n",
    "    if prices:\n",
    "        #return(\"no slot on \" + str(date))\n",
    "        lowest_price = min(prices)\n",
    "        print(str(datetime.now())+ \" 目前的最低价格是\" + str(lowest_price))\n",
    "        if lowest_price <= threshold:\n",
    "            return(str(datetime.now())+ \" 目前的最低价格是\" + str(lowest_price))\n",
    "    else:\n",
    "        print(str(datetime.now())+ \"no slot \")"
   ]
  },
  {
   "cell_type": "code",
   "execution_count": null,
   "metadata": {},
   "outputs": [
    {
     "name": "stderr",
     "output_type": "stream",
     "text": [
      "C:\\Users\\sytj1\\Anaconda3\\lib\\site-packages\\ipykernel_launcher.py:20: DeprecationWarning: use setter for headless property instead of set_headless\n",
      "100%|████████████████████████████████████████████████████████████████████████████████████| 7/7 [00:49<00:00,  6.80s/it]\n"
     ]
    },
    {
     "name": "stdout",
     "output_type": "stream",
     "text": [
      "prices: ['4.00', '3.50']\n",
      "<class 'str'>\n",
      "2020-05-10 17:27:55.048680 目前的最低价格是3.50\n"
     ]
    },
    {
     "name": "stderr",
     "output_type": "stream",
     "text": [
      "100%|████████████████████████████████████████████████████████████████████████████████████| 7/7 [00:47<00:00,  6.62s/it]\n"
     ]
    },
    {
     "name": "stdout",
     "output_type": "stream",
     "text": [
      "prices: ['4.00', '3.50']\n",
      "<class 'str'>\n",
      "2020-05-10 17:28:56.613757 目前的最低价格是3.50\n"
     ]
    },
    {
     "name": "stderr",
     "output_type": "stream",
     "text": [
      "100%|████████████████████████████████████████████████████████████████████████████████████| 7/7 [00:48<00:00,  6.96s/it]\n"
     ]
    },
    {
     "name": "stdout",
     "output_type": "stream",
     "text": [
      "prices: ['4.00', '3.50']\n",
      "<class 'str'>\n",
      "2020-05-10 17:29:58.975739 目前的最低价格是3.50\n"
     ]
    }
   ],
   "source": [
    "#enter username and password here\n",
    "driver = login(username,password)\n",
    "#enter email address to receive the alter as string\n",
    "receivers = []\n",
    "\n",
    "while True:\n",
    "    prices = get_slots(driver)\n",
    "    #print(type(min(prices)))\n",
    "    content = gen_content(prices,str(2.5))\n",
    "    if content:\n",
    "        #print(content)\n",
    "        try:\n",
    "            send_email(receivers,content)\n",
    "        except:\n",
    "            print('邮件发送失败！')\n",
    "\n",
    "    time.sleep(600)"
   ]
  },
  {
   "cell_type": "code",
   "execution_count": null,
   "metadata": {},
   "outputs": [],
   "source": []
  },
  {
   "cell_type": "code",
   "execution_count": null,
   "metadata": {},
   "outputs": [],
   "source": []
  }
 ],
 "metadata": {
  "kernelspec": {
   "display_name": "Python 3",
   "language": "python",
   "name": "python3"
  },
  "language_info": {
   "codemirror_mode": {
    "name": "ipython",
    "version": 3
   },
   "file_extension": ".py",
   "mimetype": "text/x-python",
   "name": "python",
   "nbconvert_exporter": "python",
   "pygments_lexer": "ipython3",
   "version": "3.7.0"
  }
 },
 "nbformat": 4,
 "nbformat_minor": 2
}
